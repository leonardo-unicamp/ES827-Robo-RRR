{
 "cells": [
  {
   "attachments": {},
   "cell_type": "markdown",
   "metadata": {},
   "source": [
    "<h3> Cinemática Inversa </h3>\n",
    "\n",
    "$\\theta_1 = tan^{-1}\\left(\\frac{y}{x}\\right)$ \n",
    "\n",
    "$r^2 = (z-d_1)^2 + (y\\sin\\theta_1)^2$\n",
    "\n",
    "$cos\\theta_3 = \\frac{r^2 - a_2^2 - a_3^2}{2a_2a_3}$\n",
    "\n",
    "$\\theta_3 = tan^{-1}\\left(\\frac{\\sqrt{1-cos^2\\theta_3}}{\\cos\\theta_3}\\right)$\n",
    "\n",
    "$\\theta_2 = \\tan^{-1}\\left(\\frac{z-d_1}{y\\sin\\theta_1}\\right) - \\tan^{-1}\\left(\\frac{a_3\\sin\\theta_3}{a_2 + a_3\\cos\\theta_3}\\right)$"
   ]
  },
  {
   "cell_type": "code",
   "execution_count": 1,
   "metadata": {},
   "outputs": [],
   "source": [
    "#************************************************#\n",
    "# File:        sim.py                            #\n",
    "# Description: library with functions to control #\n",
    "#              a RRR manipulator robot           #\n",
    "# Created:     06/05/2023                        #\n",
    "# Reviewed:    06/05/2023                        #\n",
    "#************************************************#\n",
    "\n",
    "# Import libraries\n",
    "import numpy as np\n",
    "import sympy as sym\n",
    "import pandas as pd\n",
    "\n",
    "# Import functions\n",
    "from numpy import sin, cos, arctan2, sqrt\n",
    "\n",
    "# Robot dimensions\n",
    "d1 = 0\n",
    "a2 = 2\n",
    "a3 = 2\n",
    "\n",
    "# Denavit-Hartenberg Table\n",
    "denavit_hartenberg = pd.DataFrame(data={\n",
    "    \"a\":     [0, a2, a3],\n",
    "    \"alpha\": [np.pi/2, 0, 0],\n",
    "    \"d\":     [d1, 0, 0],\n",
    "    \"theta\": sym.symbols(\"theta_1, theta_2, theta_3\")\n",
    "})\n",
    "\n",
    "\n",
    "def inverse_kinematics(x: float, y: float, z: float) -> np.array:\n",
    "\n",
    "    \"\"\"\n",
    "        Calculates the joint angles required for a robotic arm \n",
    "        to reach a specific point in 3D space.\n",
    "\n",
    "        Args:\n",
    "            - x: x-coordinate of the target point.\n",
    "            - y: y-coordinate of the target point.\n",
    "            - z: z-coordinate of the target point.\n",
    "\n",
    "        Returns:\n",
    "            A tuple of three float values representing the joint\n",
    "            angles (in radians) required to reach the target point.\n",
    "    \"\"\"\n",
    "\n",
    "    # Calculate the joint angles\n",
    "    theta_1 = arctan2(y, x)\n",
    "    r2 = (z - d1)**2 + (y * sin(theta_1))**2\n",
    "    cos_theta_3 = (r2 - a2**2 - a3**2)/(2 * a2 * a3)\n",
    "    theta_3 = arctan2(sqrt(1-cos_theta_3**2), cos_theta_3)\n",
    "    temp1 = arctan2((z - d1), (y * sin(theta_1)))\n",
    "    temp2 = arctan2((a3 * sin(theta_3)), (a2 + a3*cos(theta_3)))\n",
    "    theta_2 = temp1 - temp2\n",
    "\n",
    "    # Return the joint angles as a tuple\n",
    "    return np.array((theta_1, theta_2, theta_3))\n",
    "\n",
    "def get_homogeneous_matrices(denavit_hartenberg: pd.DataFrame) -> list:\n",
    "\n",
    "    \"\"\"\n",
    "        Computes a list of transformation matrices based on the \n",
    "        Denavit-Hartenberg convention.\n",
    "\n",
    "        Args:\n",
    "            - denavit_hartenberg: A pandas DataFrame containing the Denavit-Hartenberg parameters \n",
    "                                  for each joint in the robot arm. The DataFrame should have four \n",
    "                                  columns: 'a', 'alpha','d', and 'theta'. Each row represents one joint.\n",
    "\n",
    "        Returns:\n",
    "            A list of sympy Matrix, where each matrix represents the \n",
    "            transformation matrix for one joint. \n",
    "    \"\"\"\n",
    "\n",
    "    Hs = []\n",
    "    for _, value in denavit_hartenberg.iterrows():\n",
    "        a, alpha, d, theta = value.values\n",
    "        Hs.append(sym.Matrix([\n",
    "            [sym.cos(theta), -sym.sin(theta)*sym.cos(alpha), sym.sin(theta)*sym.sin(alpha), a*sym.cos(theta)],\n",
    "            [sym.sin(theta), sym.cos(theta)*sym.cos(alpha), -sym.cos(theta)*sym.sin(alpha), a*sym.sin(theta)],\n",
    "            [0, sym.sin(alpha), sym.cos(alpha), d],\n",
    "            [0, 0, 0, 1]\n",
    "        ]))\n",
    "    return Hs\n",
    "\n",
    "def forward_kinematics(theta_1: float, theta_2: float, theta_3: float):\n",
    "\n",
    "    \"\"\"\n",
    "        Compute the forward kinematics of a 3-joint robot arm.\n",
    "\n",
    "        Args:\n",
    "            - theta_1 (float): The angle (in radians) of joint 1.\n",
    "            - theta_2 (float): The angle (in radians) of joint 2.\n",
    "            - theta_3 (float): The angle (in radians) of joint 3.\n",
    "\n",
    "        Returns:\n",
    "            A tuple with SymPy Matrices that are the transformation \n",
    "            matrices, representing the position and orientation of \n",
    "            the robot end effector with respect to the base frame.\n",
    "    \"\"\"\n",
    "    \n",
    "    A1, A2, A3 = get_homogeneous_matrices(denavit_hartenberg)\n",
    "\n",
    "    # Define symbolic variables for the joint angles\n",
    "    t1, t2, t3 = sym.symbols(\"theta_1, theta_2, theta_3\")\n",
    "\n",
    "    # Get transformation matrices from Denavit-Hartenberg\n",
    "    T_0_to_1 = A1.subs({t1: theta_1})\n",
    "    T_0_to_2 = (A1*A2).subs({t1: theta_1, t2: theta_2})\n",
    "    T_0_to_3 = (A1*A2*A3).subs({t1: theta_1, t2: theta_2, t3: theta_3})\n",
    "\n",
    "    return(T_0_to_1, T_0_to_2, T_0_to_3)"
   ]
  },
  {
   "cell_type": "code",
   "execution_count": 34,
   "metadata": {},
   "outputs": [
    {
     "data": {
      "text/plain": [
       "(0.0, 5.0)"
      ]
     },
     "execution_count": 34,
     "metadata": {},
     "output_type": "execute_result"
    },
    {
     "data": {
      "image/png": "[encoded data removed]",
      "text/plain": [
       "<Figure size 720x288 with 1 Axes>"
      ]
     },
     "metadata": {
      "needs_background": "light"
     },
     "output_type": "display_data"
    }
   ],
   "source": [
    "import matplotlib.pyplot as plt\n",
    "\n",
    "x, y, z = 0, 3, 2\n",
    "theta_1, theta_2, theta_3 = inverse_kinematics(x, y, z)\n",
    "T_01, T_02, T_03 = forward_kinematics(theta_1, theta_2, theta_3)\n",
    "\n",
    "# Separate in x, y, z list\n",
    "x = [0, T_01[0, 3], T_02[0, 3], T_03[0, 3]]\n",
    "y = [0, T_01[1, 3], T_02[1, 3], T_03[1, 3]]\n",
    "z = [0, T_01[2, 3], T_02[2, 3], T_03[2, 3]]\n",
    "\n",
    "# Plotting\n",
    "fig = plt.figure(figsize=(10, 4))\n",
    "ax = fig.add_subplot(projection=\"3d\")\n",
    "ax.plot(x, y, z)\n",
    "ax.scatter(x, y, z, color=\"C1\", alpha=1)\n",
    "ax.set_xlim(-5, 5)\n",
    "ax.set_ylim(-5, 5)\n",
    "ax.set_zlim(0, 5)"
   ]
  },
  {
   "cell_type": "code",
   "execution_count": 3,
   "metadata": {},
   "outputs": [
    {
     "data": {
      "text/latex": [
       "$\\displaystyle \\left[\\begin{matrix}-0.107548470967097 & -0.698880051505721 & 0.707106781186547 & 1.0\\\\-0.107548470967097 & -0.698880051505721 & -0.707106781186548 & 1.0\\\\0.988365647311398 & -0.152096506254158 & 6.12323399573677 \\cdot 10^{-17} & 3.0\\\\0 & 0 & 0 & 1\\end{matrix}\\right]$"
      ],
      "text/plain": [
       "Matrix([\n",
       "[-0.107548470967097, -0.698880051505721,    0.707106781186547, 1.0],\n",
       "[-0.107548470967097, -0.698880051505721,   -0.707106781186548, 1.0],\n",
       "[ 0.988365647311398, -0.152096506254158, 6.12323399573677e-17, 3.0],\n",
       "[                 0,                  0,                    0,   1]])"
      ]
     },
     "execution_count": 3,
     "metadata": {},
     "output_type": "execute_result"
    }
   ],
   "source": [
    "T_03"
   ]
  }
 ],
 "metadata": {
  "kernelspec": {
   "display_name": "Python 3",
   "language": "python",
   "name": "python3"
  },
  "language_info": {
   "codemirror_mode": {
    "name": "ipython",
    "version": 3
   },
   "file_extension": ".py",
   "mimetype": "text/x-python",
   "name": "python",
   "nbconvert_exporter": "python",
   "pygments_lexer": "ipython3",
   "version": "3.9.13"
  },
  "orig_nbformat": 4
 },
 "nbformat": 4,
 "nbformat_minor": 2
}
